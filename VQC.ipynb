{
 "cells": [
  {
   "cell_type": "code",
   "execution_count": 1,
   "id": "c5144f92-043b-44fa-8c55-d6187fe4fb6b",
   "metadata": {
    "tags": []
   },
   "outputs": [
    {
     "name": "stdout",
     "output_type": "stream",
     "text": [
      "Requirement already satisfied: qiskit in /opt/homebrew/Cellar/jupyterlab/4.2.3/libexec/lib/python3.12/site-packages (1.2.2)\n",
      "Requirement already satisfied: qiskit-ibm-runtime in /opt/homebrew/Cellar/jupyterlab/4.2.3/libexec/lib/python3.12/site-packages (0.30.0)\n",
      "Requirement already satisfied: rustworkx>=0.15.0 in /opt/homebrew/Cellar/jupyterlab/4.2.3/libexec/lib/python3.12/site-packages (from qiskit) (0.15.1)\n",
      "Requirement already satisfied: numpy<3,>=1.17 in /opt/homebrew/Cellar/jupyterlab/4.2.3/libexec/lib/python3.12/site-packages (from qiskit) (1.26.4)\n",
      "Requirement already satisfied: scipy>=1.5 in /opt/homebrew/Cellar/jupyterlab/4.2.3/libexec/lib/python3.12/site-packages (from qiskit) (1.14.0)\n",
      "Requirement already satisfied: sympy>=1.3 in /opt/homebrew/Cellar/jupyterlab/4.2.3/libexec/lib/python3.12/site-packages (from qiskit) (1.13.3)\n",
      "Requirement already satisfied: dill>=0.3 in /opt/homebrew/Cellar/jupyterlab/4.2.3/libexec/lib/python3.12/site-packages (from qiskit) (0.3.8)\n",
      "Requirement already satisfied: python-dateutil>=2.8.0 in /opt/homebrew/Cellar/jupyterlab/4.2.3/libexec/lib/python3.12/site-packages (from qiskit) (2.9.0.post0)\n",
      "Requirement already satisfied: stevedore>=3.0.0 in /opt/homebrew/Cellar/jupyterlab/4.2.3/libexec/lib/python3.12/site-packages (from qiskit) (5.3.0)\n",
      "Requirement already satisfied: typing-extensions in /opt/homebrew/Cellar/jupyterlab/4.2.3/libexec/lib/python3.12/site-packages (from qiskit) (4.12.2)\n",
      "Requirement already satisfied: symengine>=0.11 in /opt/homebrew/Cellar/jupyterlab/4.2.3/libexec/lib/python3.12/site-packages (from qiskit) (0.11.0)\n",
      "Requirement already satisfied: requests>=2.19 in /opt/homebrew/Cellar/jupyterlab/4.2.3/libexec/lib/python3.12/site-packages (from qiskit-ibm-runtime) (2.32.3)\n",
      "Requirement already satisfied: requests-ntlm>=1.1.0 in /opt/homebrew/Cellar/jupyterlab/4.2.3/libexec/lib/python3.12/site-packages (from qiskit-ibm-runtime) (1.3.0)\n",
      "Requirement already satisfied: urllib3>=1.21.1 in /opt/homebrew/Cellar/jupyterlab/4.2.3/libexec/lib/python3.12/site-packages (from qiskit-ibm-runtime) (2.2.2)\n",
      "Requirement already satisfied: websocket-client>=1.5.1 in /opt/homebrew/Cellar/jupyterlab/4.2.3/libexec/lib/python3.12/site-packages (from qiskit-ibm-runtime) (1.8.0)\n",
      "Requirement already satisfied: ibm-platform-services>=0.22.6 in /opt/homebrew/Cellar/jupyterlab/4.2.3/libexec/lib/python3.12/site-packages (from qiskit-ibm-runtime) (0.57.1)\n",
      "Requirement already satisfied: pydantic>=2.5.0 in /opt/homebrew/Cellar/jupyterlab/4.2.3/libexec/lib/python3.12/site-packages (from qiskit-ibm-runtime) (2.9.2)\n",
      "Requirement already satisfied: ibm-cloud-sdk-core<4.0.0,>=3.21.0 in /opt/homebrew/Cellar/jupyterlab/4.2.3/libexec/lib/python3.12/site-packages (from ibm-platform-services>=0.22.6->qiskit-ibm-runtime) (3.21.0)\n",
      "Requirement already satisfied: annotated-types>=0.6.0 in /opt/homebrew/Cellar/jupyterlab/4.2.3/libexec/lib/python3.12/site-packages (from pydantic>=2.5.0->qiskit-ibm-runtime) (0.7.0)\n",
      "Requirement already satisfied: pydantic-core==2.23.4 in /opt/homebrew/Cellar/jupyterlab/4.2.3/libexec/lib/python3.12/site-packages (from pydantic>=2.5.0->qiskit-ibm-runtime) (2.23.4)\n",
      "Requirement already satisfied: six>=1.5 in /opt/homebrew/Cellar/jupyterlab/4.2.3/libexec/lib/python3.12/site-packages (from python-dateutil>=2.8.0->qiskit) (1.16.0)\n",
      "Requirement already satisfied: charset-normalizer<4,>=2 in /opt/homebrew/Cellar/jupyterlab/4.2.3/libexec/lib/python3.12/site-packages (from requests>=2.19->qiskit-ibm-runtime) (3.3.2)\n",
      "Requirement already satisfied: idna<4,>=2.5 in /opt/homebrew/Cellar/jupyterlab/4.2.3/libexec/lib/python3.12/site-packages (from requests>=2.19->qiskit-ibm-runtime) (3.7)\n",
      "Requirement already satisfied: certifi>=2017.4.17 in /opt/homebrew/opt/certifi/lib/python3.12/site-packages (from requests>=2.19->qiskit-ibm-runtime) (2024.7.4)\n",
      "Requirement already satisfied: cryptography>=1.3 in /opt/homebrew/Cellar/jupyterlab/4.2.3/libexec/lib/python3.12/site-packages (from requests-ntlm>=1.1.0->qiskit-ibm-runtime) (43.0.1)\n",
      "Requirement already satisfied: pyspnego>=0.4.0 in /opt/homebrew/Cellar/jupyterlab/4.2.3/libexec/lib/python3.12/site-packages (from requests-ntlm>=1.1.0->qiskit-ibm-runtime) (0.11.1)\n",
      "Requirement already satisfied: pbr>=2.0.0 in /opt/homebrew/Cellar/jupyterlab/4.2.3/libexec/lib/python3.12/site-packages (from stevedore>=3.0.0->qiskit) (6.1.0)\n",
      "Requirement already satisfied: mpmath<1.4,>=1.1.0 in /opt/homebrew/Cellar/jupyterlab/4.2.3/libexec/lib/python3.12/site-packages (from sympy>=1.3->qiskit) (1.3.0)\n",
      "Requirement already satisfied: cffi>=1.12 in /opt/homebrew/Cellar/jupyterlab/4.2.3/libexec/lib/python3.12/site-packages (from cryptography>=1.3->requests-ntlm>=1.1.0->qiskit-ibm-runtime) (1.16.0)\n",
      "Requirement already satisfied: PyJWT<3.0.0,>=2.8.0 in /opt/homebrew/Cellar/jupyterlab/4.2.3/libexec/lib/python3.12/site-packages (from ibm-cloud-sdk-core<4.0.0,>=3.21.0->ibm-platform-services>=0.22.6->qiskit-ibm-runtime) (2.9.0)\n",
      "Requirement already satisfied: pycparser in /opt/homebrew/Cellar/jupyterlab/4.2.3/libexec/lib/python3.12/site-packages (from cffi>=1.12->cryptography>=1.3->requests-ntlm>=1.1.0->qiskit-ibm-runtime) (2.22)\n",
      "Note: you may need to restart the kernel to use updated packages.\n"
     ]
    }
   ],
   "source": [
    "%pip install qiskit qiskit-ibm-runtime"
   ]
  },
  {
   "cell_type": "code",
   "execution_count": 2,
   "id": "361345dc-b393-4df2-9aa9-789b91725143",
   "metadata": {
    "tags": []
   },
   "outputs": [
    {
     "name": "stdout",
     "output_type": "stream",
     "text": [
      "Requirement already satisfied: tensorflow in /opt/homebrew/Cellar/jupyterlab/4.2.3/libexec/lib/python3.12/site-packages (2.17.0)\n",
      "Requirement already satisfied: absl-py>=1.0.0 in /opt/homebrew/Cellar/jupyterlab/4.2.3/libexec/lib/python3.12/site-packages (from tensorflow) (2.1.0)\n",
      "Requirement already satisfied: astunparse>=1.6.0 in /opt/homebrew/Cellar/jupyterlab/4.2.3/libexec/lib/python3.12/site-packages (from tensorflow) (1.6.3)\n",
      "Requirement already satisfied: flatbuffers>=24.3.25 in /opt/homebrew/Cellar/jupyterlab/4.2.3/libexec/lib/python3.12/site-packages (from tensorflow) (24.3.25)\n",
      "Requirement already satisfied: gast!=0.5.0,!=0.5.1,!=0.5.2,>=0.2.1 in /opt/homebrew/Cellar/jupyterlab/4.2.3/libexec/lib/python3.12/site-packages (from tensorflow) (0.6.0)\n",
      "Requirement already satisfied: google-pasta>=0.1.1 in /opt/homebrew/Cellar/jupyterlab/4.2.3/libexec/lib/python3.12/site-packages (from tensorflow) (0.2.0)\n",
      "Requirement already satisfied: h5py>=3.10.0 in /opt/homebrew/Cellar/jupyterlab/4.2.3/libexec/lib/python3.12/site-packages (from tensorflow) (3.11.0)\n",
      "Requirement already satisfied: libclang>=13.0.0 in /opt/homebrew/Cellar/jupyterlab/4.2.3/libexec/lib/python3.12/site-packages (from tensorflow) (18.1.1)\n",
      "Requirement already satisfied: ml-dtypes<0.5.0,>=0.3.1 in /opt/homebrew/Cellar/jupyterlab/4.2.3/libexec/lib/python3.12/site-packages (from tensorflow) (0.4.0)\n",
      "Requirement already satisfied: opt-einsum>=2.3.2 in /opt/homebrew/Cellar/jupyterlab/4.2.3/libexec/lib/python3.12/site-packages (from tensorflow) (3.3.0)\n",
      "Requirement already satisfied: packaging in /opt/homebrew/Cellar/jupyterlab/4.2.3/libexec/lib/python3.12/site-packages (from tensorflow) (24.1)\n",
      "Requirement already satisfied: protobuf!=4.21.0,!=4.21.1,!=4.21.2,!=4.21.3,!=4.21.4,!=4.21.5,<5.0.0dev,>=3.20.3 in /opt/homebrew/Cellar/jupyterlab/4.2.3/libexec/lib/python3.12/site-packages (from tensorflow) (4.25.4)\n",
      "Requirement already satisfied: requests<3,>=2.21.0 in /opt/homebrew/Cellar/jupyterlab/4.2.3/libexec/lib/python3.12/site-packages (from tensorflow) (2.32.3)\n",
      "Requirement already satisfied: setuptools in /opt/homebrew/Cellar/jupyterlab/4.2.3/libexec/lib/python3.12/site-packages (from tensorflow) (70.2.0)\n",
      "Requirement already satisfied: six>=1.12.0 in /opt/homebrew/Cellar/jupyterlab/4.2.3/libexec/lib/python3.12/site-packages (from tensorflow) (1.16.0)\n",
      "Requirement already satisfied: termcolor>=1.1.0 in /opt/homebrew/Cellar/jupyterlab/4.2.3/libexec/lib/python3.12/site-packages (from tensorflow) (2.4.0)\n",
      "Requirement already satisfied: typing-extensions>=3.6.6 in /opt/homebrew/Cellar/jupyterlab/4.2.3/libexec/lib/python3.12/site-packages (from tensorflow) (4.12.2)\n",
      "Requirement already satisfied: wrapt>=1.11.0 in /opt/homebrew/Cellar/jupyterlab/4.2.3/libexec/lib/python3.12/site-packages (from tensorflow) (1.16.0)\n",
      "Requirement already satisfied: grpcio<2.0,>=1.24.3 in /opt/homebrew/Cellar/jupyterlab/4.2.3/libexec/lib/python3.12/site-packages (from tensorflow) (1.65.4)\n",
      "Requirement already satisfied: tensorboard<2.18,>=2.17 in /opt/homebrew/Cellar/jupyterlab/4.2.3/libexec/lib/python3.12/site-packages (from tensorflow) (2.17.1)\n",
      "Requirement already satisfied: keras>=3.2.0 in /opt/homebrew/Cellar/jupyterlab/4.2.3/libexec/lib/python3.12/site-packages (from tensorflow) (3.5.0)\n",
      "Requirement already satisfied: numpy<2.0.0,>=1.26.0 in /opt/homebrew/Cellar/jupyterlab/4.2.3/libexec/lib/python3.12/site-packages (from tensorflow) (1.26.4)\n",
      "Requirement already satisfied: wheel<1.0,>=0.23.0 in /opt/homebrew/lib/python3.12/site-packages (from astunparse>=1.6.0->tensorflow) (0.44.0)\n",
      "Requirement already satisfied: rich in /opt/homebrew/Cellar/jupyterlab/4.2.3/libexec/lib/python3.12/site-packages (from keras>=3.2.0->tensorflow) (13.7.1)\n",
      "Requirement already satisfied: namex in /opt/homebrew/Cellar/jupyterlab/4.2.3/libexec/lib/python3.12/site-packages (from keras>=3.2.0->tensorflow) (0.0.8)\n",
      "Requirement already satisfied: optree in /opt/homebrew/Cellar/jupyterlab/4.2.3/libexec/lib/python3.12/site-packages (from keras>=3.2.0->tensorflow) (0.12.1)\n",
      "Requirement already satisfied: charset-normalizer<4,>=2 in /opt/homebrew/Cellar/jupyterlab/4.2.3/libexec/lib/python3.12/site-packages (from requests<3,>=2.21.0->tensorflow) (3.3.2)\n",
      "Requirement already satisfied: idna<4,>=2.5 in /opt/homebrew/Cellar/jupyterlab/4.2.3/libexec/lib/python3.12/site-packages (from requests<3,>=2.21.0->tensorflow) (3.7)\n",
      "Requirement already satisfied: urllib3<3,>=1.21.1 in /opt/homebrew/Cellar/jupyterlab/4.2.3/libexec/lib/python3.12/site-packages (from requests<3,>=2.21.0->tensorflow) (2.2.2)\n",
      "Requirement already satisfied: certifi>=2017.4.17 in /opt/homebrew/opt/certifi/lib/python3.12/site-packages (from requests<3,>=2.21.0->tensorflow) (2024.7.4)\n",
      "Requirement already satisfied: markdown>=2.6.8 in /opt/homebrew/Cellar/jupyterlab/4.2.3/libexec/lib/python3.12/site-packages (from tensorboard<2.18,>=2.17->tensorflow) (3.6)\n",
      "Requirement already satisfied: tensorboard-data-server<0.8.0,>=0.7.0 in /opt/homebrew/Cellar/jupyterlab/4.2.3/libexec/lib/python3.12/site-packages (from tensorboard<2.18,>=2.17->tensorflow) (0.7.2)\n",
      "Requirement already satisfied: werkzeug>=1.0.1 in /opt/homebrew/Cellar/jupyterlab/4.2.3/libexec/lib/python3.12/site-packages (from tensorboard<2.18,>=2.17->tensorflow) (3.0.3)\n",
      "Requirement already satisfied: MarkupSafe>=2.1.1 in /opt/homebrew/Cellar/jupyterlab/4.2.3/libexec/lib/python3.12/site-packages (from werkzeug>=1.0.1->tensorboard<2.18,>=2.17->tensorflow) (2.1.5)\n",
      "Requirement already satisfied: markdown-it-py>=2.2.0 in /opt/homebrew/Cellar/jupyterlab/4.2.3/libexec/lib/python3.12/site-packages (from rich->keras>=3.2.0->tensorflow) (3.0.0)\n",
      "Requirement already satisfied: pygments<3.0.0,>=2.13.0 in /opt/homebrew/Cellar/jupyterlab/4.2.3/libexec/lib/python3.12/site-packages (from rich->keras>=3.2.0->tensorflow) (2.18.0)\n",
      "Requirement already satisfied: mdurl~=0.1 in /opt/homebrew/Cellar/jupyterlab/4.2.3/libexec/lib/python3.12/site-packages (from markdown-it-py>=2.2.0->rich->keras>=3.2.0->tensorflow) (0.1.2)\n",
      "Note: you may need to restart the kernel to use updated packages.\n"
     ]
    }
   ],
   "source": [
    "pip install tensorflow"
   ]
  },
  {
   "cell_type": "code",
   "execution_count": 3,
   "id": "fbf0bf7b-a0d5-4a14-8dea-59b971e61f84",
   "metadata": {},
   "outputs": [
    {
     "name": "stdout",
     "output_type": "stream",
     "text": [
      "Requirement already satisfied: seaborn in /opt/homebrew/Cellar/jupyterlab/4.2.3/libexec/lib/python3.12/site-packages (0.13.2)\n",
      "Requirement already satisfied: numpy!=1.24.0,>=1.20 in /opt/homebrew/Cellar/jupyterlab/4.2.3/libexec/lib/python3.12/site-packages (from seaborn) (1.26.4)\n",
      "Requirement already satisfied: pandas>=1.2 in /opt/homebrew/Cellar/jupyterlab/4.2.3/libexec/lib/python3.12/site-packages (from seaborn) (2.2.2)\n",
      "Requirement already satisfied: matplotlib!=3.6.1,>=3.4 in /opt/homebrew/Cellar/jupyterlab/4.2.3/libexec/lib/python3.12/site-packages (from seaborn) (3.9.2)\n",
      "Requirement already satisfied: contourpy>=1.0.1 in /opt/homebrew/Cellar/jupyterlab/4.2.3/libexec/lib/python3.12/site-packages (from matplotlib!=3.6.1,>=3.4->seaborn) (1.2.1)\n",
      "Requirement already satisfied: cycler>=0.10 in /opt/homebrew/Cellar/jupyterlab/4.2.3/libexec/lib/python3.12/site-packages (from matplotlib!=3.6.1,>=3.4->seaborn) (0.12.1)\n",
      "Requirement already satisfied: fonttools>=4.22.0 in /opt/homebrew/Cellar/jupyterlab/4.2.3/libexec/lib/python3.12/site-packages (from matplotlib!=3.6.1,>=3.4->seaborn) (4.53.1)\n",
      "Requirement already satisfied: kiwisolver>=1.3.1 in /opt/homebrew/Cellar/jupyterlab/4.2.3/libexec/lib/python3.12/site-packages (from matplotlib!=3.6.1,>=3.4->seaborn) (1.4.5)\n",
      "Requirement already satisfied: packaging>=20.0 in /opt/homebrew/Cellar/jupyterlab/4.2.3/libexec/lib/python3.12/site-packages (from matplotlib!=3.6.1,>=3.4->seaborn) (24.1)\n",
      "Requirement already satisfied: pillow>=8 in /opt/homebrew/Cellar/jupyterlab/4.2.3/libexec/lib/python3.12/site-packages (from matplotlib!=3.6.1,>=3.4->seaborn) (10.4.0)\n",
      "Requirement already satisfied: pyparsing>=2.3.1 in /opt/homebrew/Cellar/jupyterlab/4.2.3/libexec/lib/python3.12/site-packages (from matplotlib!=3.6.1,>=3.4->seaborn) (3.1.2)\n",
      "Requirement already satisfied: python-dateutil>=2.7 in /opt/homebrew/Cellar/jupyterlab/4.2.3/libexec/lib/python3.12/site-packages (from matplotlib!=3.6.1,>=3.4->seaborn) (2.9.0.post0)\n",
      "Requirement already satisfied: pytz>=2020.1 in /opt/homebrew/Cellar/jupyterlab/4.2.3/libexec/lib/python3.12/site-packages (from pandas>=1.2->seaborn) (2024.1)\n",
      "Requirement already satisfied: tzdata>=2022.7 in /opt/homebrew/Cellar/jupyterlab/4.2.3/libexec/lib/python3.12/site-packages (from pandas>=1.2->seaborn) (2024.1)\n",
      "Requirement already satisfied: six>=1.5 in /opt/homebrew/Cellar/jupyterlab/4.2.3/libexec/lib/python3.12/site-packages (from python-dateutil>=2.7->matplotlib!=3.6.1,>=3.4->seaborn) (1.16.0)\n",
      "Note: you may need to restart the kernel to use updated packages.\n"
     ]
    }
   ],
   "source": [
    "pip install seaborn"
   ]
  },
  {
   "cell_type": "code",
   "execution_count": 3,
   "id": "0e9d87b7-ac5f-47de-a261-a1e54b57a6bf",
   "metadata": {
    "tags": []
   },
   "outputs": [
    {
     "name": "stdout",
     "output_type": "stream",
     "text": [
      "Processed 0 molecules\n",
      "Processed 500 molecules\n",
      "Processed 1000 molecules\n",
      "Processed 1500 molecules\n",
      "Processed 2000 molecules\n",
      "Processed 2500 molecules\n",
      "Processed 3000 molecules\n",
      "Processed 3500 molecules\n",
      "Processed 4000 molecules\n",
      "Processed 4500 molecules\n",
      "Processed 5000 molecules\n",
      "Processed 5500 molecules\n",
      "Processed 6000 molecules\n",
      "Processed 6500 molecules\n",
      "Processed 7000 molecules\n",
      "--- 1.5403118133544922 seconds ---\n",
      "Variance Explained:  1.0\n",
      "[ -417.96  -712.42  -564.21 ... -1662.1  -1782.01 -1919.  ]\n",
      "0         0\n",
      "323       0\n",
      "324       0\n",
      "325       0\n",
      "326       0\n",
      "       ... \n",
      "270    7156\n",
      "271    7156\n",
      "272    7156\n",
      "275    7156\n",
      "273    7156\n",
      "Length: 576, dtype: int64\n"
     ]
    }
   ],
   "source": [
    "import numpy as np\n",
    "import matplotlib.pyplot as plt\n",
    "import time, copy\n",
    "\n",
    "from sklearn.model_selection import train_test_split\n",
    "from sklearn.datasets import make_moons, make_circles, make_classification, make_blobs\n",
    "from sklearn.metrics import classification_report, confusion_matrix, accuracy_score, roc_curve\n",
    "\n",
    "\n",
    "from matplotlib.colors import ListedColormap\n",
    "cm = plt.cm.RdBu\n",
    "cm_bright = ListedColormap([\"#FF0000\", \"#0000FF\"])\n",
    "\n",
    "import pandas as pd\n",
    "import scipy.io\n",
    "import numpy as np\n",
    "from scipy.spatial.distance import pdist, squareform\n",
    "import networkx as nx\n",
    "import matplotlib.pyplot as plt\n",
    "import seaborn as sns\n",
    "#%matplotlib inline\n",
    "import tensorflow as tf\n",
    "import time\n",
    "\n",
    "rand_state = 42\n",
    "\n",
    "# Set random seeds\n",
    "tf.random.set_seed(rand_state)\n",
    "np.random.seed(rand_state)\n",
    "\n",
    "import warnings\n",
    "warnings.simplefilter('ignore')\n",
    "\n",
    "\n",
    "qm7 = scipy.io.loadmat('qm7.mat')\n",
    "\n",
    "R = qm7['R']\n",
    "\n",
    "y = np.transpose(qm7['T']).reshape((7165,))\n",
    "y_scaling_factor = 2000.\n",
    "y_scaled = y / y_scaling_factor\n",
    "\n",
    "# k=0 # 0 = include diagnol, 1 = do not include diagnol\n",
    "\n",
    "num_atoms = 23\n",
    "iu = np.triu_indices(num_atoms,k=0)\n",
    "iu_dist = np.triu_indices(num_atoms,k=1) # for the pairwise distance matrix, all diagonol entries will be 0\n",
    "\n",
    "\n",
    "CM = np.zeros((qm7['X'].shape[0], num_atoms*(num_atoms+1)//2), dtype=float)\n",
    "eigs = np.zeros((qm7['X'].shape[0], num_atoms), dtype=float)\n",
    "centralities = np.zeros((qm7['X'].shape[0], num_atoms), dtype=float)\n",
    "interatomic_dist = np.zeros((qm7['X'].shape[0], ((num_atoms*num_atoms)-num_atoms)//2), dtype=float)\n",
    "\n",
    "verbose=True\n",
    "\n",
    "for i, cm in enumerate(qm7['X']):\n",
    "    coulomb_vector = cm[iu]\n",
    "    # Sort elements by decreasing order\n",
    "    shuffle = np.argsort(-coulomb_vector)\n",
    "    CM[i] = coulomb_vector[shuffle]\n",
    "    dist = squareform(pdist(R[i]))\n",
    "    # we can extract the upper triangle of the distance matri: return vector of dimension (1,num_atoms)\n",
    "    dist_vector = dist[iu_dist]\n",
    "    shuffle = np.argsort(-dist_vector)\n",
    "    interatomic_dist[i] = dist_vector[shuffle]\n",
    "\n",
    "    w,v = np.linalg.eig((dist))\n",
    "    eigs[i] = w[np.argsort(-w)]\n",
    "    centralities[i] = np.array(list(nx.eigenvector_centrality(nx.Graph(dist)).values()))\n",
    "\n",
    "    if verbose and i % 500 == 0:\n",
    "        print(\"Processed {} molecules\".format(i))\n",
    "\n",
    "X = np.concatenate((CM, eigs, centralities, interatomic_dist), axis=1)\n",
    "from sklearn.decomposition import KernelPCA\n",
    "from matplotlib import cm\n",
    "\n",
    "# scale Coulomb Matrices, divide by 370\n",
    "CM = qm7['X'].reshape((7165, 529))\n",
    "\n",
    "\n",
    "start_time = time.time()\n",
    "kpca = KernelPCA(n_components=2, kernel=\"rbf\")\n",
    "CM_reduced = kpca.fit_transform(CM)\n",
    "print(\"--- %s seconds ---\" % (time.time() - start_time))\n",
    "explained_variance = np.var(CM_reduced, axis=0)\n",
    "explained_variance_ratio = explained_variance / np.sum(explained_variance)\n",
    "print(\"Variance Explained: \", np.sum(explained_variance_ratio))\n",
    "print(y)\n",
    "\n",
    "\n",
    "def get_category(x, total_range, num_bins):\n",
    "    bin_size = total_range/num_bins\n",
    "    total_range = 1787.119995\n",
    "    bin_size = total_range/num_bins\n",
    "\n",
    "    return int(np.floor(np.abs(x/bin_size)))\n",
    "\n",
    "total_range = 1787.119995\n",
    "num_bins = 10\n",
    "X = X.astype(float)\n",
    "\n",
    "\n",
    "y_class = pd.Series(y).apply(lambda x: get_category(x, total_range, num_bins))\n",
    "\n",
    "df = pd.DataFrame(X)\n",
    "df['label'] = y_class\n",
    "df\n",
    "zero_counts = (df == 0).sum().sort_values(ascending=True)\n",
    "\n",
    "# Display the counts of zeroes in ascending order\n",
    "print(zero_counts)\n",
    "X = df.drop('label', axis=1)  # Assuming 'target' is the name of the target variable column\n",
    "y = df['label']\n"
   ]
  },
  {
   "cell_type": "code",
   "execution_count": 5,
   "id": "f894bd77-ea99-40f3-8377-da557841d9d3",
   "metadata": {},
   "outputs": [
    {
     "data": {
      "text/plain": [
       "0        2\n",
       "1        3\n",
       "2        3\n",
       "3        2\n",
       "4        4\n",
       "        ..\n",
       "7160    10\n",
       "7161     9\n",
       "7162     9\n",
       "7163     9\n",
       "7164    10\n",
       "Name: label, Length: 7165, dtype: int64"
      ]
     },
     "execution_count": 5,
     "metadata": {},
     "output_type": "execute_result"
    }
   ],
   "source": [
    "y"
   ]
  },
  {
   "cell_type": "code",
   "execution_count": 6,
   "id": "af67c70d-0338-47a3-bc62-334c4abd32b8",
   "metadata": {},
   "outputs": [
    {
     "name": "stdout",
     "output_type": "stream",
     "text": [
      "Requirement already satisfied: qiskit.algorithms in /opt/homebrew/Cellar/jupyterlab/4.2.3/libexec/lib/python3.12/site-packages (0.3.0)\n",
      "Requirement already satisfied: qiskit>=0.44 in /opt/homebrew/Cellar/jupyterlab/4.2.3/libexec/lib/python3.12/site-packages (from qiskit.algorithms) (1.2.2)\n",
      "Requirement already satisfied: scipy>=1.4 in /opt/homebrew/Cellar/jupyterlab/4.2.3/libexec/lib/python3.12/site-packages (from qiskit.algorithms) (1.14.0)\n",
      "Requirement already satisfied: numpy>=1.17 in /opt/homebrew/Cellar/jupyterlab/4.2.3/libexec/lib/python3.12/site-packages (from qiskit.algorithms) (1.26.4)\n",
      "Requirement already satisfied: rustworkx>=0.15.0 in /opt/homebrew/Cellar/jupyterlab/4.2.3/libexec/lib/python3.12/site-packages (from qiskit>=0.44->qiskit.algorithms) (0.15.1)\n",
      "Requirement already satisfied: sympy>=1.3 in /opt/homebrew/Cellar/jupyterlab/4.2.3/libexec/lib/python3.12/site-packages (from qiskit>=0.44->qiskit.algorithms) (1.13.3)\n",
      "Requirement already satisfied: dill>=0.3 in /opt/homebrew/Cellar/jupyterlab/4.2.3/libexec/lib/python3.12/site-packages (from qiskit>=0.44->qiskit.algorithms) (0.3.8)\n",
      "Requirement already satisfied: python-dateutil>=2.8.0 in /opt/homebrew/Cellar/jupyterlab/4.2.3/libexec/lib/python3.12/site-packages (from qiskit>=0.44->qiskit.algorithms) (2.9.0.post0)\n",
      "Requirement already satisfied: stevedore>=3.0.0 in /opt/homebrew/Cellar/jupyterlab/4.2.3/libexec/lib/python3.12/site-packages (from qiskit>=0.44->qiskit.algorithms) (5.3.0)\n",
      "Requirement already satisfied: typing-extensions in /opt/homebrew/Cellar/jupyterlab/4.2.3/libexec/lib/python3.12/site-packages (from qiskit>=0.44->qiskit.algorithms) (4.12.2)\n",
      "Requirement already satisfied: symengine>=0.11 in /opt/homebrew/Cellar/jupyterlab/4.2.3/libexec/lib/python3.12/site-packages (from qiskit>=0.44->qiskit.algorithms) (0.11.0)\n",
      "Requirement already satisfied: six>=1.5 in /opt/homebrew/Cellar/jupyterlab/4.2.3/libexec/lib/python3.12/site-packages (from python-dateutil>=2.8.0->qiskit>=0.44->qiskit.algorithms) (1.16.0)\n",
      "Requirement already satisfied: pbr>=2.0.0 in /opt/homebrew/Cellar/jupyterlab/4.2.3/libexec/lib/python3.12/site-packages (from stevedore>=3.0.0->qiskit>=0.44->qiskit.algorithms) (6.1.0)\n",
      "Requirement already satisfied: mpmath<1.4,>=1.1.0 in /opt/homebrew/Cellar/jupyterlab/4.2.3/libexec/lib/python3.12/site-packages (from sympy>=1.3->qiskit>=0.44->qiskit.algorithms) (1.3.0)\n",
      "Note: you may need to restart the kernel to use updated packages.\n"
     ]
    }
   ],
   "source": [
    "pip install qiskit.algorithms"
   ]
  },
  {
   "cell_type": "code",
   "execution_count": 7,
   "id": "034d74c8-29b4-4c34-b1b8-737c9bee55f3",
   "metadata": {
    "tags": []
   },
   "outputs": [],
   "source": [
    "from qiskit_algorithms.state_fidelities import ComputeUncompute\n",
    "from qiskit.primitives import Sampler\n",
    "\n",
    "fidelity = ComputeUncompute(sampler=Sampler())"
   ]
  },
  {
   "cell_type": "code",
   "execution_count": 8,
   "id": "eea89068-17ef-46b5-ae96-c8e8daa69579",
   "metadata": {},
   "outputs": [
    {
     "name": "stdout",
     "output_type": "stream",
     "text": [
      "Requirement already satisfied: qiskit_machine_learning in /opt/homebrew/Cellar/jupyterlab/4.2.3/libexec/lib/python3.12/site-packages (0.7.2)\n",
      "Requirement already satisfied: qiskit>=0.44 in /opt/homebrew/Cellar/jupyterlab/4.2.3/libexec/lib/python3.12/site-packages (from qiskit_machine_learning) (1.2.2)\n",
      "Requirement already satisfied: qiskit-algorithms>=0.2.0 in /opt/homebrew/Cellar/jupyterlab/4.2.3/libexec/lib/python3.12/site-packages (from qiskit_machine_learning) (0.3.0)\n",
      "Requirement already satisfied: scipy>=1.4 in /opt/homebrew/Cellar/jupyterlab/4.2.3/libexec/lib/python3.12/site-packages (from qiskit_machine_learning) (1.14.0)\n",
      "Requirement already satisfied: numpy>=1.17 in /opt/homebrew/Cellar/jupyterlab/4.2.3/libexec/lib/python3.12/site-packages (from qiskit_machine_learning) (1.26.4)\n",
      "Requirement already satisfied: psutil>=5 in /opt/homebrew/Cellar/jupyterlab/4.2.3/libexec/lib/python3.12/site-packages (from qiskit_machine_learning) (6.0.0)\n",
      "Requirement already satisfied: scikit-learn>=1.2.0 in /opt/homebrew/Cellar/jupyterlab/4.2.3/libexec/lib/python3.12/site-packages (from qiskit_machine_learning) (1.5.1)\n",
      "Requirement already satisfied: fastdtw in /opt/homebrew/Cellar/jupyterlab/4.2.3/libexec/lib/python3.12/site-packages (from qiskit_machine_learning) (0.3.4)\n",
      "Requirement already satisfied: setuptools>=40.1.0 in /opt/homebrew/Cellar/jupyterlab/4.2.3/libexec/lib/python3.12/site-packages (from qiskit_machine_learning) (70.2.0)\n",
      "Requirement already satisfied: dill>=0.3.4 in /opt/homebrew/Cellar/jupyterlab/4.2.3/libexec/lib/python3.12/site-packages (from qiskit_machine_learning) (0.3.8)\n",
      "Requirement already satisfied: rustworkx>=0.15.0 in /opt/homebrew/Cellar/jupyterlab/4.2.3/libexec/lib/python3.12/site-packages (from qiskit>=0.44->qiskit_machine_learning) (0.15.1)\n",
      "Requirement already satisfied: sympy>=1.3 in /opt/homebrew/Cellar/jupyterlab/4.2.3/libexec/lib/python3.12/site-packages (from qiskit>=0.44->qiskit_machine_learning) (1.13.3)\n",
      "Requirement already satisfied: python-dateutil>=2.8.0 in /opt/homebrew/Cellar/jupyterlab/4.2.3/libexec/lib/python3.12/site-packages (from qiskit>=0.44->qiskit_machine_learning) (2.9.0.post0)\n",
      "Requirement already satisfied: stevedore>=3.0.0 in /opt/homebrew/Cellar/jupyterlab/4.2.3/libexec/lib/python3.12/site-packages (from qiskit>=0.44->qiskit_machine_learning) (5.3.0)\n",
      "Requirement already satisfied: typing-extensions in /opt/homebrew/Cellar/jupyterlab/4.2.3/libexec/lib/python3.12/site-packages (from qiskit>=0.44->qiskit_machine_learning) (4.12.2)\n",
      "Requirement already satisfied: symengine>=0.11 in /opt/homebrew/Cellar/jupyterlab/4.2.3/libexec/lib/python3.12/site-packages (from qiskit>=0.44->qiskit_machine_learning) (0.11.0)\n",
      "Requirement already satisfied: joblib>=1.2.0 in /opt/homebrew/Cellar/jupyterlab/4.2.3/libexec/lib/python3.12/site-packages (from scikit-learn>=1.2.0->qiskit_machine_learning) (1.4.2)\n",
      "Requirement already satisfied: threadpoolctl>=3.1.0 in /opt/homebrew/Cellar/jupyterlab/4.2.3/libexec/lib/python3.12/site-packages (from scikit-learn>=1.2.0->qiskit_machine_learning) (3.5.0)\n",
      "Requirement already satisfied: six>=1.5 in /opt/homebrew/Cellar/jupyterlab/4.2.3/libexec/lib/python3.12/site-packages (from python-dateutil>=2.8.0->qiskit>=0.44->qiskit_machine_learning) (1.16.0)\n",
      "Requirement already satisfied: pbr>=2.0.0 in /opt/homebrew/Cellar/jupyterlab/4.2.3/libexec/lib/python3.12/site-packages (from stevedore>=3.0.0->qiskit>=0.44->qiskit_machine_learning) (6.1.0)\n",
      "Requirement already satisfied: mpmath<1.4,>=1.1.0 in /opt/homebrew/Cellar/jupyterlab/4.2.3/libexec/lib/python3.12/site-packages (from sympy>=1.3->qiskit>=0.44->qiskit_machine_learning) (1.3.0)\n",
      "Note: you may need to restart the kernel to use updated packages.\n"
     ]
    }
   ],
   "source": [
    "pip install qiskit_machine_learning"
   ]
  },
  {
   "cell_type": "code",
   "execution_count": 9,
   "id": "5d66035f-eda1-4433-ad4d-90d774742615",
   "metadata": {
    "tags": []
   },
   "outputs": [],
   "source": [
    "from qiskit_machine_learning.kernels import FidelityQuantumKernel\n",
    "from qiskit.circuit.library import ZZFeatureMap\n",
    "from qiskit.primitives import Sampler\n",
    "from qiskit_machine_learning.kernels import FidelityQuantumKernel\n",
    "feature_map = ZZFeatureMap(2)\n",
    "new_kernel = FidelityQuantumKernel(feature_map=feature_map, fidelity=fidelity)\n"
   ]
  },
  {
   "cell_type": "code",
   "execution_count": 24,
   "id": "83bd5859-b7b3-4d1a-8a5f-03cb79df8ccf",
   "metadata": {
    "tags": []
   },
   "outputs": [
    {
     "name": "stdout",
     "output_type": "stream",
     "text": [
      "SVR on the training dataset (R^2 score): 0.88\n",
      "SVR on the test dataset (R^2 score):     0.88\n",
      "Mean Squared Error on training set:      0.20\n",
      "Mean Squared Error on test set:          0.18\n"
     ]
    }
   ],
   "source": [
    "import pandas as pd\n",
    "from sklearn.svm import SVR\n",
    "from sklearn.model_selection import train_test_split\n",
    "from sklearn.metrics import mean_squared_error\n",
    "\n",
    "# Assuming df and y_class are defined elsewhere\n",
    "col = [320, 321, 319, 301, 302, 299, 303, 304, 84, 319,50,55]\n",
    "x_new = df[col]\n",
    "df2 = pd.DataFrame(x_new)\n",
    "df2['label'] = y_class\n",
    "\n",
    "# Set features and target variable\n",
    "features = df2.drop('label', axis=1)\n",
    "y = df2['label']\n",
    "\n",
    "# Train-Test Split\n",
    "train_features, test_features, train_labels, test_labels = train_test_split(\n",
    "    features, y, train_size=0.8\n",
    ")\n",
    "\n",
    "# Define and fit the SVR model\n",
    "svr = SVR()\n",
    "svr.fit(train_features, train_labels)\n",
    "\n",
    "# Calculate the training and test scores\n",
    "train_score_svr = svr.score(train_features, train_labels)\n",
    "test_score_svr = svr.score(test_features, test_labels)\n",
    "\n",
    "# Calculate the Mean Squared Error (MSE) for both training and test sets\n",
    "train_mse = mean_squared_error(train_labels, svr.predict(train_features))\n",
    "test_mse = mean_squared_error(test_labels, svr.predict(test_features))\n",
    "\n",
    "# Print the results\n",
    "print(f\"SVR on the training dataset (R^2 score): {train_score_svr:.2f}\")\n",
    "print(f\"SVR on the test dataset (R^2 score):     {test_score_svr:.2f}\")\n",
    "print(f\"Mean Squared Error on training set:      {train_mse:.2f}\")\n",
    "print(f\"Mean Squared Error on test set:          {test_mse:.2f}\")\n"
   ]
  },
  {
   "cell_type": "code",
   "execution_count": 10,
   "id": "62c2bc67-30c9-4e5b-9c9f-34e26261c1b6",
   "metadata": {
    "tags": []
   },
   "outputs": [
    {
     "name": "stdout",
     "output_type": "stream",
     "text": [
      "Requirement already satisfied: qiskit_machine_learning in /opt/homebrew/Cellar/jupyterlab/4.2.3/libexec/lib/python3.12/site-packages (0.7.2)\n",
      "Requirement already satisfied: qiskit>=0.44 in /opt/homebrew/Cellar/jupyterlab/4.2.3/libexec/lib/python3.12/site-packages (from qiskit_machine_learning) (1.2.2)\n",
      "Requirement already satisfied: qiskit-algorithms>=0.2.0 in /opt/homebrew/Cellar/jupyterlab/4.2.3/libexec/lib/python3.12/site-packages (from qiskit_machine_learning) (0.3.0)\n",
      "Requirement already satisfied: scipy>=1.4 in /opt/homebrew/Cellar/jupyterlab/4.2.3/libexec/lib/python3.12/site-packages (from qiskit_machine_learning) (1.14.0)\n",
      "Requirement already satisfied: numpy>=1.17 in /opt/homebrew/Cellar/jupyterlab/4.2.3/libexec/lib/python3.12/site-packages (from qiskit_machine_learning) (1.26.4)\n",
      "Requirement already satisfied: psutil>=5 in /opt/homebrew/Cellar/jupyterlab/4.2.3/libexec/lib/python3.12/site-packages (from qiskit_machine_learning) (6.0.0)\n",
      "Requirement already satisfied: scikit-learn>=1.2.0 in /opt/homebrew/Cellar/jupyterlab/4.2.3/libexec/lib/python3.12/site-packages (from qiskit_machine_learning) (1.5.1)\n",
      "Requirement already satisfied: fastdtw in /opt/homebrew/Cellar/jupyterlab/4.2.3/libexec/lib/python3.12/site-packages (from qiskit_machine_learning) (0.3.4)\n",
      "Requirement already satisfied: setuptools>=40.1.0 in /opt/homebrew/Cellar/jupyterlab/4.2.3/libexec/lib/python3.12/site-packages (from qiskit_machine_learning) (70.2.0)\n",
      "Requirement already satisfied: dill>=0.3.4 in /opt/homebrew/Cellar/jupyterlab/4.2.3/libexec/lib/python3.12/site-packages (from qiskit_machine_learning) (0.3.8)\n",
      "Requirement already satisfied: rustworkx>=0.15.0 in /opt/homebrew/Cellar/jupyterlab/4.2.3/libexec/lib/python3.12/site-packages (from qiskit>=0.44->qiskit_machine_learning) (0.15.1)\n",
      "Requirement already satisfied: sympy>=1.3 in /opt/homebrew/Cellar/jupyterlab/4.2.3/libexec/lib/python3.12/site-packages (from qiskit>=0.44->qiskit_machine_learning) (1.13.3)\n",
      "Requirement already satisfied: python-dateutil>=2.8.0 in /opt/homebrew/Cellar/jupyterlab/4.2.3/libexec/lib/python3.12/site-packages (from qiskit>=0.44->qiskit_machine_learning) (2.9.0.post0)\n",
      "Requirement already satisfied: stevedore>=3.0.0 in /opt/homebrew/Cellar/jupyterlab/4.2.3/libexec/lib/python3.12/site-packages (from qiskit>=0.44->qiskit_machine_learning) (5.3.0)\n",
      "Requirement already satisfied: typing-extensions in /opt/homebrew/Cellar/jupyterlab/4.2.3/libexec/lib/python3.12/site-packages (from qiskit>=0.44->qiskit_machine_learning) (4.12.2)\n",
      "Requirement already satisfied: symengine>=0.11 in /opt/homebrew/Cellar/jupyterlab/4.2.3/libexec/lib/python3.12/site-packages (from qiskit>=0.44->qiskit_machine_learning) (0.11.0)\n",
      "Requirement already satisfied: joblib>=1.2.0 in /opt/homebrew/Cellar/jupyterlab/4.2.3/libexec/lib/python3.12/site-packages (from scikit-learn>=1.2.0->qiskit_machine_learning) (1.4.2)\n",
      "Requirement already satisfied: threadpoolctl>=3.1.0 in /opt/homebrew/Cellar/jupyterlab/4.2.3/libexec/lib/python3.12/site-packages (from scikit-learn>=1.2.0->qiskit_machine_learning) (3.5.0)\n",
      "Requirement already satisfied: six>=1.5 in /opt/homebrew/Cellar/jupyterlab/4.2.3/libexec/lib/python3.12/site-packages (from python-dateutil>=2.8.0->qiskit>=0.44->qiskit_machine_learning) (1.16.0)\n",
      "Requirement already satisfied: pbr>=2.0.0 in /opt/homebrew/Cellar/jupyterlab/4.2.3/libexec/lib/python3.12/site-packages (from stevedore>=3.0.0->qiskit>=0.44->qiskit_machine_learning) (6.1.0)\n",
      "Requirement already satisfied: mpmath<1.4,>=1.1.0 in /opt/homebrew/Cellar/jupyterlab/4.2.3/libexec/lib/python3.12/site-packages (from sympy>=1.3->qiskit>=0.44->qiskit_machine_learning) (1.3.0)\n",
      "Note: you may need to restart the kernel to use updated packages.\n"
     ]
    }
   ],
   "source": [
    "pip install qiskit_machine_learning"
   ]
  },
  {
   "cell_type": "code",
   "execution_count": 15,
   "id": "74a19ab4-1c5f-44ef-ae8f-298602e03eb1",
   "metadata": {
    "tags": []
   },
   "outputs": [],
   "source": [
    "from qiskit.circuit.library import RealAmplitudes, ZZFeatureMap\n",
    "from qiskit_machine_learning.algorithms.classifiers import NeuralNetworkClassifier, VQC\n",
    "from qiskit import QuantumCircuit\n",
    "from qiskit.circuit import Parameter\n",
    "from qiskit.circuit.library import RealAmplitudes, ZZFeatureMap\n",
    "from qiskit_algorithms.optimizers import COBYLA, L_BFGS_B\n",
    "from IPython.display import clear_output\n",
    "\n",
    "from qiskit_machine_learning.algorithms.classifiers import NeuralNetworkClassifier, VQC\n",
    "\n",
    "feature_map = ZZFeatureMap(4)\n",
    "ansatz = RealAmplitudes(4, reps=3)\n",
    "\n",
    "def callback_graph(weights, obj_func_eval):\n",
    "    clear_output(wait=True)\n",
    "    objective_func_vals.append(obj_func_eval)\n",
    "    plt.title(\"Objective function value against iteration\")\n",
    "    plt.xlabel(\"Iteration\")\n",
    "    plt.ylabel(\"Objective function value\")\n",
    "    plt.plot(range(len(objective_func_vals)), objective_func_vals)\n",
    "    plt.show()\n",
    "# construct variational quantum classifier\n",
    "vqc = VQC(\n",
    "    num_qubits=4,\n",
    "    optimizer=COBYLA(maxiter=30),\n",
    "    callback=callback_graph,\n",
    ")\n",
    "from sklearn.decomposition import PCA"
   ]
  },
  {
   "cell_type": "code",
   "execution_count": 12,
   "id": "d78a3c68-562d-442f-bc38-267c98008b05",
   "metadata": {},
   "outputs": [],
   "source": [
    "import pandas as pd"
   ]
  },
  {
   "cell_type": "code",
   "execution_count": 16,
   "id": "62ec77c2-a883-47c7-9396-522ee9c20395",
   "metadata": {
    "tags": []
   },
   "outputs": [
    {
     "data": {
      "image/png": "[encoded data removed]",
      "text/plain": [
       "<Figure size 1200x600 with 1 Axes>"
      ]
     },
     "metadata": {},
     "output_type": "display_data"
    },
    {
     "name": "stdout",
     "output_type": "stream",
     "text": [
      "Test Score: 0.22417643774427695\n"
     ]
    }
   ],
   "source": [
    "import numpy as np\n",
    "import pandas as pd\n",
    "from sklearn.model_selection import train_test_split\n",
    "from sklearn.decomposition import PCA\n",
    "import matplotlib.pyplot as plt\n",
    "\n",
    "# Assuming 'df' is your DataFrame and 'y_class' is your target variable\n",
    "col = [320, 321, 319, 301, 302, 299, 303, 304, 84, 319]\n",
    "x_new = df[col]\n",
    "df2 = pd.DataFrame(x_new)\n",
    "df2['label'] = y_class\n",
    "\n",
    "# Prepare X and y\n",
    "X = df2.drop('label', axis=1)\n",
    "y = df2['label'].values\n",
    "\n",
    "# Convert column types if needed\n",
    "x_new.columns = x_new.columns.astype(str)\n",
    "\n",
    "# Perform PCA\n",
    "features = PCA(n_components=4).fit_transform(X)\n",
    "\n",
    "# Split the data into training and testing sets\n",
    "X_train, X_test, y_train, y_test = train_test_split(features, y, test_size=0.5, random_state=42)\n",
    "\n",
    "objective_func_vals = []\n",
    "plt.rcParams[\"figure.figsize\"] = (12, 6)\n",
    "\n",
    "# Fit the classifier to the training data\n",
    "vqc.fit(X_train, y_train)\n",
    "\n",
    "# Return to default figsize\n",
    "plt.rcParams[\"figure.figsize\"] = (6, 4)\n",
    "\n",
    "# Score the classifier on the test data\n",
    "score = vqc.score(X_train, y_train)\n",
    "print(\"Test Score:\", score)\n"
   ]
  },
  {
   "cell_type": "code",
   "execution_count": 14,
   "id": "f4eb7e1d-1e27-43c1-ac6c-114706504aa6",
   "metadata": {},
   "outputs": [],
   "source": [
    "#pennylane=98 , vqc=0.9166"
   ]
  },
  {
   "cell_type": "code",
   "execution_count": 15,
   "id": "dfa18e31-21ea-4c17-adb0-adec9c60d967",
   "metadata": {
    "tags": []
   },
   "outputs": [],
   "source": [
    "from sklearn.metrics import precision_recall_fscore_support\n"
   ]
  },
  {
   "cell_type": "code",
   "execution_count": 18,
   "id": "a1b6b635-902d-480d-a1cd-45f457575d31",
   "metadata": {
    "tags": []
   },
   "outputs": [
    {
     "ename": "NameError",
     "evalue": "name 'test_features' is not defined",
     "output_type": "error",
     "traceback": [
      "\u001b[0;31m---------------------------------------------------------------------------\u001b[0m",
      "\u001b[0;31mNameError\u001b[0m                                 Traceback (most recent call last)",
      "Cell \u001b[0;32mIn[18], line 1\u001b[0m\n\u001b[0;32m----> 1\u001b[0m qsvc_predictions \u001b[38;5;241m=\u001b[39m vqc\u001b[38;5;241m.\u001b[39mpredict(\u001b[43mtest_features\u001b[49m[:\u001b[38;5;241m120\u001b[39m])\n\u001b[1;32m      2\u001b[0m precision, recall, f1_score, _ \u001b[38;5;241m=\u001b[39m precision_recall_fscore_support(test_labels[:\u001b[38;5;241m120\u001b[39m:], qsvc_predictions, average\u001b[38;5;241m=\u001b[39m\u001b[38;5;124m'\u001b[39m\u001b[38;5;124mweighted\u001b[39m\u001b[38;5;124m'\u001b[39m)\n\u001b[1;32m      4\u001b[0m \u001b[38;5;66;03m# Print the results\u001b[39;00m\n",
      "\u001b[0;31mNameError\u001b[0m: name 'test_features' is not defined"
     ]
    }
   ],
   "source": [
    "qsvc_predictions = vqc.predict(test_features[:120])\n",
    "precision, recall, f1_score, _ = precision_recall_fscore_support(test_labels[:120:], qsvc_predictions, average='weighted')\n",
    "\n",
    "# Print the results\n",
    "print(f\"VQC Classification Test Metrics:\")\n",
    "print(f\"Weighted Precision: {precision:.4f}\")\n",
    "print(f\"Weighted Recall: {recall:.4f}\")\n",
    "print(f\"Weighted F1 Score: {f1_score:.4f}\")"
   ]
  },
  {
   "cell_type": "code",
   "execution_count": null,
   "id": "472c614b-1910-4ffc-98a5-dcc500b80caa",
   "metadata": {},
   "outputs": [],
   "source": []
  }
 ],
 "metadata": {
  "kernelspec": {
   "display_name": "Python 3 (ipykernel)",
   "language": "python",
   "name": "python3"
  },
  "language_info": {
   "codemirror_mode": {
    "name": "ipython",
    "version": 3
   },
   "file_extension": ".py",
   "mimetype": "text/x-python",
   "name": "python",
   "nbconvert_exporter": "python",
   "pygments_lexer": "ipython3",
   "version": "3.12.5"
  },
  "widgets": {
   "application/vnd.jupyter.widget-state+json": {
    "state": {},
    "version_major": 2,
    "version_minor": 0
   }
  }
 },
 "nbformat": 4,
 "nbformat_minor": 5
}
